{
 "cells": [
  {
   "cell_type": "markdown",
   "metadata": {},
   "source": [
    "### Objective:\n",
    "1. Fitting KNN model to Treasury Data Set\n",
    "2. Predicting with diffrent value of K\n",
    "\n",
    "3. Fitting Decision Tree model to Treasury Data Set\n",
    "4. Predicting with diffrent value of Depth\n",
    "\n",
    "5. Determine the best Model by measuring performance of KNN and Decision Tree"
   ]
  },
  {
   "cell_type": "code",
   "execution_count": 1,
   "metadata": {},
   "outputs": [],
   "source": [
    "#Import Libraries\n",
    "import csv\n",
    "import numpy as np\n",
    "from numpy.random import randn\n",
    "import pandas as pd\n",
    "from pandas import Series, DataFrame\n",
    "import matplotlib.pyplot as plt\n",
    "import os\n",
    "import math\n",
    "import re\n",
    "pd.options.display.max_columns=40\n",
    "#Import KNeighborsClassifier from sklearn.neighbors\n",
    "from sklearn.neighbors import KNeighborsClassifier\n",
    "from sklearn.model_selection import train_test_split\n",
    "### Import Descision Tree Classifier\n",
    "from sklearn.tree import DecisionTreeClassifier"
   ]
  },
  {
   "cell_type": "code",
   "execution_count": 2,
   "metadata": {},
   "outputs": [],
   "source": [
    "### Load \n",
    "path_hw2=\"C:\\\\Users\\\\farbo\\\\IE 598 Machine Learning\\\\HW\\\\HW 2\\\\\"\n",
    "df_ts=pd.read_csv(path_hw2+\"Treasury Squeeze test - DS1.csv\").drop([\"rowindex\",\"contract\"],axis=1)"
   ]
  },
  {
   "cell_type": "code",
   "execution_count": 3,
   "metadata": {},
   "outputs": [
    {
     "data": {
      "text/plain": [
       "True"
      ]
     },
     "execution_count": 3,
     "metadata": {},
     "output_type": "execute_result"
    }
   ],
   "source": [
    "### Missing Values\n",
    "df_ts.isnull().sum().sum()==0"
   ]
  },
  {
   "cell_type": "code",
   "execution_count": 4,
   "metadata": {},
   "outputs": [],
   "source": [
    "X=df_ts.drop(\"squeeze\",axis=1).values\n",
    "#y=df_ts[\"squeeze\"].values\n",
    "y=df_ts[\"squeeze\"].astype(int).values"
   ]
  },
  {
   "cell_type": "code",
   "execution_count": 5,
   "metadata": {},
   "outputs": [],
   "source": [
    "### Test and Train\n",
    "X_train, X_test, y_train, y_test = train_test_split(X, y, test_size = .2, random_state=42, stratify=y)"
   ]
  },
  {
   "cell_type": "markdown",
   "metadata": {},
   "source": [
    "### Fit KNN for different values of K (Neighbours)"
   ]
  },
  {
   "cell_type": "code",
   "execution_count": 6,
   "metadata": {},
   "outputs": [],
   "source": [
    "list_of_models_score=[]\n",
    "list_of_y_pred=[]\n",
    "list_of_neighbors=[]\n",
    "for i in range(1,22):\n",
    "    ### Create the Model\n",
    "    knn = KNeighborsClassifier(n_neighbors=i)\n",
    "    ### Fit values to the model\n",
    "    knn.fit(X_train,y_train)\n",
    "    ### Prediction \n",
    "    y_pred=knn.predict(X_test)\n",
    "    y_pred=list(y_pred)\n",
    "    ### Store the prediction of each model\n",
    "    list_of_y_pred.append(y_pred)\n",
    "    #### Evaluate the score of each model\n",
    "    knn_model_score=knn.score(X_test,y_test)\n",
    "    ### Store the Scores of each model\n",
    "    list_of_models_score.append(knn_model_score)\n",
    "    ### Store Neghbour Number\n",
    "    list_of_neighbors.append(i)"
   ]
  },
  {
   "cell_type": "code",
   "execution_count": 7,
   "metadata": {
    "scrolled": true
   },
   "outputs": [
    {
     "data": {
      "text/html": [
       "<div>\n",
       "<style scoped>\n",
       "    .dataframe tbody tr th:only-of-type {\n",
       "        vertical-align: middle;\n",
       "    }\n",
       "\n",
       "    .dataframe tbody tr th {\n",
       "        vertical-align: top;\n",
       "    }\n",
       "\n",
       "    .dataframe thead th {\n",
       "        text-align: right;\n",
       "    }\n",
       "</style>\n",
       "<table border=\"1\" class=\"dataframe\">\n",
       "  <thead>\n",
       "    <tr style=\"text-align: right;\">\n",
       "      <th></th>\n",
       "      <th>Neighbours</th>\n",
       "      <th>KNN Model Accuracy%</th>\n",
       "    </tr>\n",
       "  </thead>\n",
       "  <tbody>\n",
       "    <tr>\n",
       "      <th>19</th>\n",
       "      <td>20</td>\n",
       "      <td>65.56</td>\n",
       "    </tr>\n",
       "    <tr>\n",
       "      <th>20</th>\n",
       "      <td>21</td>\n",
       "      <td>63.33</td>\n",
       "    </tr>\n",
       "    <tr>\n",
       "      <th>15</th>\n",
       "      <td>16</td>\n",
       "      <td>62.22</td>\n",
       "    </tr>\n",
       "    <tr>\n",
       "      <th>4</th>\n",
       "      <td>5</td>\n",
       "      <td>61.11</td>\n",
       "    </tr>\n",
       "    <tr>\n",
       "      <th>16</th>\n",
       "      <td>17</td>\n",
       "      <td>61.11</td>\n",
       "    </tr>\n",
       "    <tr>\n",
       "      <th>5</th>\n",
       "      <td>6</td>\n",
       "      <td>60.56</td>\n",
       "    </tr>\n",
       "    <tr>\n",
       "      <th>14</th>\n",
       "      <td>15</td>\n",
       "      <td>60.00</td>\n",
       "    </tr>\n",
       "  </tbody>\n",
       "</table>\n",
       "</div>"
      ],
      "text/plain": [
       "    Neighbours  KNN Model Accuracy%\n",
       "19          20                65.56\n",
       "20          21                63.33\n",
       "15          16                62.22\n",
       "4            5                61.11\n",
       "16          17                61.11\n",
       "5            6                60.56\n",
       "14          15                60.00"
      ]
     },
     "execution_count": 7,
     "metadata": {},
     "output_type": "execute_result"
    }
   ],
   "source": [
    "### Store the Performance of all models fitted\n",
    "df_performance=pd.DataFrame({\"Neighbours\":list_of_neighbors,\n",
    "             \"KNN Model Accuracy%\":list_of_models_score})\n",
    "df_performance[\"KNN Model Accuracy%\"]=round(df_performance[\"KNN Model Accuracy%\"]*100,2)\n",
    "df_performance.sort_values(\"KNN Model Accuracy%\",ascending=False).head(7)"
   ]
  },
  {
   "cell_type": "code",
   "execution_count": 8,
   "metadata": {},
   "outputs": [
    {
     "data": {
      "text/html": [
       "<div>\n",
       "<style scoped>\n",
       "    .dataframe tbody tr th:only-of-type {\n",
       "        vertical-align: middle;\n",
       "    }\n",
       "\n",
       "    .dataframe tbody tr th {\n",
       "        vertical-align: top;\n",
       "    }\n",
       "\n",
       "    .dataframe thead th {\n",
       "        text-align: right;\n",
       "    }\n",
       "</style>\n",
       "<table border=\"1\" class=\"dataframe\">\n",
       "  <thead>\n",
       "    <tr style=\"text-align: right;\">\n",
       "      <th></th>\n",
       "      <th>K1</th>\n",
       "      <th>K2</th>\n",
       "      <th>K3</th>\n",
       "      <th>K4</th>\n",
       "      <th>K5</th>\n",
       "      <th>K6</th>\n",
       "      <th>K7</th>\n",
       "      <th>K8</th>\n",
       "      <th>K9</th>\n",
       "      <th>K10</th>\n",
       "      <th>K11</th>\n",
       "      <th>K12</th>\n",
       "      <th>K13</th>\n",
       "      <th>K14</th>\n",
       "      <th>K15</th>\n",
       "      <th>K16</th>\n",
       "      <th>K17</th>\n",
       "      <th>K18</th>\n",
       "      <th>K19</th>\n",
       "      <th>K20</th>\n",
       "      <th>K21</th>\n",
       "      <th>Y Test</th>\n",
       "    </tr>\n",
       "  </thead>\n",
       "  <tbody>\n",
       "    <tr>\n",
       "      <th>0</th>\n",
       "      <td>1</td>\n",
       "      <td>0</td>\n",
       "      <td>1</td>\n",
       "      <td>0</td>\n",
       "      <td>0</td>\n",
       "      <td>0</td>\n",
       "      <td>1</td>\n",
       "      <td>0</td>\n",
       "      <td>1</td>\n",
       "      <td>1</td>\n",
       "      <td>1</td>\n",
       "      <td>1</td>\n",
       "      <td>1</td>\n",
       "      <td>1</td>\n",
       "      <td>0</td>\n",
       "      <td>0</td>\n",
       "      <td>0</td>\n",
       "      <td>0</td>\n",
       "      <td>0</td>\n",
       "      <td>0</td>\n",
       "      <td>0</td>\n",
       "      <td>0</td>\n",
       "    </tr>\n",
       "    <tr>\n",
       "      <th>1</th>\n",
       "      <td>0</td>\n",
       "      <td>0</td>\n",
       "      <td>0</td>\n",
       "      <td>0</td>\n",
       "      <td>0</td>\n",
       "      <td>0</td>\n",
       "      <td>0</td>\n",
       "      <td>0</td>\n",
       "      <td>0</td>\n",
       "      <td>0</td>\n",
       "      <td>0</td>\n",
       "      <td>0</td>\n",
       "      <td>0</td>\n",
       "      <td>0</td>\n",
       "      <td>0</td>\n",
       "      <td>0</td>\n",
       "      <td>0</td>\n",
       "      <td>0</td>\n",
       "      <td>0</td>\n",
       "      <td>0</td>\n",
       "      <td>0</td>\n",
       "      <td>0</td>\n",
       "    </tr>\n",
       "    <tr>\n",
       "      <th>2</th>\n",
       "      <td>1</td>\n",
       "      <td>0</td>\n",
       "      <td>0</td>\n",
       "      <td>0</td>\n",
       "      <td>1</td>\n",
       "      <td>0</td>\n",
       "      <td>0</td>\n",
       "      <td>0</td>\n",
       "      <td>1</td>\n",
       "      <td>1</td>\n",
       "      <td>1</td>\n",
       "      <td>1</td>\n",
       "      <td>1</td>\n",
       "      <td>1</td>\n",
       "      <td>0</td>\n",
       "      <td>0</td>\n",
       "      <td>0</td>\n",
       "      <td>0</td>\n",
       "      <td>0</td>\n",
       "      <td>1</td>\n",
       "      <td>0</td>\n",
       "      <td>0</td>\n",
       "    </tr>\n",
       "    <tr>\n",
       "      <th>3</th>\n",
       "      <td>1</td>\n",
       "      <td>0</td>\n",
       "      <td>0</td>\n",
       "      <td>0</td>\n",
       "      <td>0</td>\n",
       "      <td>0</td>\n",
       "      <td>0</td>\n",
       "      <td>0</td>\n",
       "      <td>0</td>\n",
       "      <td>0</td>\n",
       "      <td>0</td>\n",
       "      <td>0</td>\n",
       "      <td>0</td>\n",
       "      <td>0</td>\n",
       "      <td>0</td>\n",
       "      <td>0</td>\n",
       "      <td>0</td>\n",
       "      <td>0</td>\n",
       "      <td>0</td>\n",
       "      <td>0</td>\n",
       "      <td>0</td>\n",
       "      <td>1</td>\n",
       "    </tr>\n",
       "    <tr>\n",
       "      <th>4</th>\n",
       "      <td>0</td>\n",
       "      <td>0</td>\n",
       "      <td>0</td>\n",
       "      <td>0</td>\n",
       "      <td>0</td>\n",
       "      <td>0</td>\n",
       "      <td>0</td>\n",
       "      <td>0</td>\n",
       "      <td>0</td>\n",
       "      <td>0</td>\n",
       "      <td>0</td>\n",
       "      <td>0</td>\n",
       "      <td>0</td>\n",
       "      <td>0</td>\n",
       "      <td>0</td>\n",
       "      <td>0</td>\n",
       "      <td>0</td>\n",
       "      <td>0</td>\n",
       "      <td>0</td>\n",
       "      <td>0</td>\n",
       "      <td>0</td>\n",
       "      <td>0</td>\n",
       "    </tr>\n",
       "  </tbody>\n",
       "</table>\n",
       "</div>"
      ],
      "text/plain": [
       "   K1  K2  K3  K4  K5  K6  K7  K8  K9  K10  K11  K12  K13  K14  K15  K16  K17  \\\n",
       "0   1   0   1   0   0   0   1   0   1    1    1    1    1    1    0    0    0   \n",
       "1   0   0   0   0   0   0   0   0   0    0    0    0    0    0    0    0    0   \n",
       "2   1   0   0   0   1   0   0   0   1    1    1    1    1    1    0    0    0   \n",
       "3   1   0   0   0   0   0   0   0   0    0    0    0    0    0    0    0    0   \n",
       "4   0   0   0   0   0   0   0   0   0    0    0    0    0    0    0    0    0   \n",
       "\n",
       "   K18  K19  K20  K21  Y Test  \n",
       "0    0    0    0    0       0  \n",
       "1    0    0    0    0       0  \n",
       "2    0    0    1    0       0  \n",
       "3    0    0    0    0       1  \n",
       "4    0    0    0    0       0  "
      ]
     },
     "execution_count": 8,
     "metadata": {},
     "output_type": "execute_result"
    }
   ],
   "source": [
    "### Load the Predictions\n",
    "df_prediction=pd.DataFrame(list_of_y_pred).T\n",
    "### Add the neighbors number to the columns\n",
    "df_prediction.columns=[\"K\"+str(c) for c in list_of_neighbors]\n",
    "### Merge Prediction with Y_test\n",
    "df_prediction=pd.merge(df_prediction.reset_index(),\n",
    "         pd.DataFrame({\"Y Test\":y_test}).reset_index(),\n",
    "         left_on=\"index\",right_on=\"index\",how=\"left\").drop('index',axis=1)\n",
    "df_prediction.head()"
   ]
  },
  {
   "cell_type": "code",
   "execution_count": 9,
   "metadata": {},
   "outputs": [],
   "source": [
    "best_k=df_performance.sort_values(\"KNN Model Accuracy%\",ascending=False)[\"Neighbours\"].values[0]\n",
    "best_k_accuracy=round(df_performance.sort_values(\"KNN Model Accuracy%\",ascending=False)[\"KNN Model Accuracy%\"].values[0],2)"
   ]
  },
  {
   "cell_type": "code",
   "execution_count": 10,
   "metadata": {},
   "outputs": [
    {
     "name": "stdout",
     "output_type": "stream",
     "text": [
      "The most accurate KNN model is the one with 20 neighbours with 65.56% accuracy\n"
     ]
    }
   ],
   "source": [
    "print(\"The most accurate KNN model is the one with \" + str(best_k) + \" neighbours with \" + str(best_k_accuracy)+\"% accuracy\")"
   ]
  },
  {
   "cell_type": "markdown",
   "metadata": {},
   "source": [
    "###  Decision Tree"
   ]
  },
  {
   "cell_type": "code",
   "execution_count": 11,
   "metadata": {},
   "outputs": [],
   "source": [
    "list_of_models_score_dt=[]\n",
    "list_of_y_pred_dt=[]\n",
    "list_of_depth_dt=[]\n",
    "for i in range(1,22):\n",
    "    ### Create the Model\n",
    "    Decision_Tree=DecisionTreeClassifier(max_depth=i,random_state=1)\n",
    "    ### Fit values to the model\n",
    "    Decision_Tree.fit(X_train,y_train)\n",
    "    ### Prediction\n",
    "    y_pred_dt=Decision_Tree.predict(X_test)\n",
    "    ### Store the prediction of each model\n",
    "    list_of_y_pred_dt.append(y_pred_dt)\n",
    "    #### Evaluate the score of each model\n",
    "    dt_model_score=Decision_Tree.score(X_test,y_test)\n",
    "    ### Store the Scores of each model\n",
    "    list_of_models_score_dt.append(dt_model_score)\n",
    "    ### Store Neghbour Number\n",
    "    list_of_depth_dt.append(i)"
   ]
  },
  {
   "cell_type": "code",
   "execution_count": 12,
   "metadata": {
    "scrolled": true
   },
   "outputs": [],
   "source": [
    "df_dt_performance=DataFrame({\"Depth\":list_of_depth_dt,\"DT Model Accuracy%\":list_of_models_score_dt})\n",
    "df_dt_performance[\"DT Model Accuracy%\"]=round(df_dt_performance[\"DT Model Accuracy%\"]*100,2)"
   ]
  },
  {
   "cell_type": "code",
   "execution_count": 13,
   "metadata": {
    "scrolled": true
   },
   "outputs": [],
   "source": [
    "best_depth=df_dt_performance.sort_values(\"DT Model Accuracy%\",ascending=False)[\"Depth\"].values[0]\n",
    "best_depth_accuracy=df_dt_performance.sort_values(\"DT Model Accuracy%\",ascending=False)[\"DT Model Accuracy%\"].values[0]"
   ]
  },
  {
   "cell_type": "markdown",
   "metadata": {},
   "source": [
    "###  Print Accuracy High Level Report"
   ]
  },
  {
   "cell_type": "code",
   "execution_count": 14,
   "metadata": {},
   "outputs": [
    {
     "name": "stdout",
     "output_type": "stream",
     "text": [
      "The most accurate KNN model is the one with 20 neighbours with 65.56% accuracy\n",
      "The most accurate Decision Tree model is the one with 1 Depth with 66.67% accuracy\n"
     ]
    }
   ],
   "source": [
    "print(\"The most accurate KNN model is the one with \" + str(best_k) + \" neighbours with \" + str(best_k_accuracy)+\"% accuracy\")\n",
    "\n",
    "print(\"The most accurate Decision Tree \\\n",
    "model is the one with \" + str(best_depth) + \" Depth with \" + str(best_depth_accuracy)+\"% accuracy\")"
   ]
  },
  {
   "cell_type": "markdown",
   "metadata": {},
   "source": [
    "###  Top 5 Accuracy  of each Model"
   ]
  },
  {
   "cell_type": "code",
   "execution_count": 15,
   "metadata": {
    "scrolled": false
   },
   "outputs": [
    {
     "data": {
      "text/html": [
       "<div>\n",
       "<style scoped>\n",
       "    .dataframe tbody tr th:only-of-type {\n",
       "        vertical-align: middle;\n",
       "    }\n",
       "\n",
       "    .dataframe tbody tr th {\n",
       "        vertical-align: top;\n",
       "    }\n",
       "\n",
       "    .dataframe thead th {\n",
       "        text-align: right;\n",
       "    }\n",
       "</style>\n",
       "<table border=\"1\" class=\"dataframe\">\n",
       "  <thead>\n",
       "    <tr style=\"text-align: right;\">\n",
       "      <th></th>\n",
       "      <th>Neighbours</th>\n",
       "      <th>KNN Model Accuracy%</th>\n",
       "    </tr>\n",
       "  </thead>\n",
       "  <tbody>\n",
       "    <tr>\n",
       "      <th>19</th>\n",
       "      <td>20</td>\n",
       "      <td>65.56</td>\n",
       "    </tr>\n",
       "    <tr>\n",
       "      <th>20</th>\n",
       "      <td>21</td>\n",
       "      <td>63.33</td>\n",
       "    </tr>\n",
       "    <tr>\n",
       "      <th>15</th>\n",
       "      <td>16</td>\n",
       "      <td>62.22</td>\n",
       "    </tr>\n",
       "    <tr>\n",
       "      <th>4</th>\n",
       "      <td>5</td>\n",
       "      <td>61.11</td>\n",
       "    </tr>\n",
       "    <tr>\n",
       "      <th>16</th>\n",
       "      <td>17</td>\n",
       "      <td>61.11</td>\n",
       "    </tr>\n",
       "  </tbody>\n",
       "</table>\n",
       "</div>"
      ],
      "text/plain": [
       "    Neighbours  KNN Model Accuracy%\n",
       "19          20                65.56\n",
       "20          21                63.33\n",
       "15          16                62.22\n",
       "4            5                61.11\n",
       "16          17                61.11"
      ]
     },
     "execution_count": 15,
     "metadata": {},
     "output_type": "execute_result"
    }
   ],
   "source": [
    "df_performance.sort_values(\"KNN Model Accuracy%\",ascending=False).head(5)"
   ]
  },
  {
   "cell_type": "code",
   "execution_count": 16,
   "metadata": {},
   "outputs": [
    {
     "data": {
      "text/html": [
       "<div>\n",
       "<style scoped>\n",
       "    .dataframe tbody tr th:only-of-type {\n",
       "        vertical-align: middle;\n",
       "    }\n",
       "\n",
       "    .dataframe tbody tr th {\n",
       "        vertical-align: top;\n",
       "    }\n",
       "\n",
       "    .dataframe thead th {\n",
       "        text-align: right;\n",
       "    }\n",
       "</style>\n",
       "<table border=\"1\" class=\"dataframe\">\n",
       "  <thead>\n",
       "    <tr style=\"text-align: right;\">\n",
       "      <th></th>\n",
       "      <th>Depth</th>\n",
       "      <th>DT Model Accuracy%</th>\n",
       "    </tr>\n",
       "  </thead>\n",
       "  <tbody>\n",
       "    <tr>\n",
       "      <th>0</th>\n",
       "      <td>1</td>\n",
       "      <td>66.67</td>\n",
       "    </tr>\n",
       "    <tr>\n",
       "      <th>2</th>\n",
       "      <td>3</td>\n",
       "      <td>65.00</td>\n",
       "    </tr>\n",
       "    <tr>\n",
       "      <th>4</th>\n",
       "      <td>5</td>\n",
       "      <td>65.00</td>\n",
       "    </tr>\n",
       "    <tr>\n",
       "      <th>3</th>\n",
       "      <td>4</td>\n",
       "      <td>61.67</td>\n",
       "    </tr>\n",
       "    <tr>\n",
       "      <th>1</th>\n",
       "      <td>2</td>\n",
       "      <td>61.67</td>\n",
       "    </tr>\n",
       "  </tbody>\n",
       "</table>\n",
       "</div>"
      ],
      "text/plain": [
       "   Depth  DT Model Accuracy%\n",
       "0      1               66.67\n",
       "2      3               65.00\n",
       "4      5               65.00\n",
       "3      4               61.67\n",
       "1      2               61.67"
      ]
     },
     "execution_count": 16,
     "metadata": {},
     "output_type": "execute_result"
    }
   ],
   "source": [
    " df_dt_performance.sort_values(\"DT Model Accuracy%\",ascending=False).head(5)"
   ]
  },
  {
   "cell_type": "code",
   "execution_count": 17,
   "metadata": {},
   "outputs": [
    {
     "name": "stdout",
     "output_type": "stream",
     "text": [
      "My name is Farbod Baharkoush\n",
      "My NetID is: fbahar2\n",
      "I hereby certify that I have read the University policy on Academic Integrity and that I am not in violation.\n"
     ]
    }
   ],
   "source": [
    "print(\"My name is Farbod Baharkoush\")\n",
    "print(\"My NetID is: fbahar2\")\n",
    "print(\"I hereby certify that I have read the University policy on Academic Integrity and that I am not in violation.\")"
   ]
  },
  {
   "cell_type": "code",
   "execution_count": null,
   "metadata": {},
   "outputs": [],
   "source": []
  },
  {
   "cell_type": "code",
   "execution_count": null,
   "metadata": {},
   "outputs": [],
   "source": []
  },
  {
   "cell_type": "code",
   "execution_count": null,
   "metadata": {},
   "outputs": [],
   "source": []
  }
 ],
 "metadata": {
  "kernelspec": {
   "display_name": "Python 3",
   "language": "python",
   "name": "python3"
  },
  "language_info": {
   "codemirror_mode": {
    "name": "ipython",
    "version": 3
   },
   "file_extension": ".py",
   "mimetype": "text/x-python",
   "name": "python",
   "nbconvert_exporter": "python",
   "pygments_lexer": "ipython3",
   "version": "3.7.3"
  }
 },
 "nbformat": 4,
 "nbformat_minor": 2
}
